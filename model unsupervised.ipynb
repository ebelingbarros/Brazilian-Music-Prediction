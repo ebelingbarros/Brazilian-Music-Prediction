{
 "cells": [
  {
   "cell_type": "markdown",
   "metadata": {},
   "source": [
    "# Clustering songs through K-Means unsupervised learning"
   ]
  },
  {
   "cell_type": "markdown",
   "metadata": {},
   "source": [
    "### Getting and visualizing data"
   ]
  },
  {
   "cell_type": "code",
   "execution_count": 191,
   "metadata": {},
   "outputs": [],
   "source": [
    "import pandas as pd"
   ]
  },
  {
   "cell_type": "code",
   "execution_count": 192,
   "metadata": {},
   "outputs": [],
   "source": [
    "from sklearn import datasets"
   ]
  },
  {
   "cell_type": "code",
   "execution_count": 193,
   "metadata": {},
   "outputs": [
    {
     "data": {
      "text/html": [
       "<div>\n",
       "<style scoped>\n",
       "    .dataframe tbody tr th:only-of-type {\n",
       "        vertical-align: middle;\n",
       "    }\n",
       "\n",
       "    .dataframe tbody tr th {\n",
       "        vertical-align: top;\n",
       "    }\n",
       "\n",
       "    .dataframe thead th {\n",
       "        text-align: right;\n",
       "    }\n",
       "</style>\n",
       "<table border=\"1\" class=\"dataframe\">\n",
       "  <thead>\n",
       "    <tr style=\"text-align: right;\">\n",
       "      <th></th>\n",
       "      <th>Unnamed: 0</th>\n",
       "      <th>title</th>\n",
       "      <th>performed_by</th>\n",
       "      <th>genre_a</th>\n",
       "      <th>genre</th>\n",
       "      <th>danceability</th>\n",
       "      <th>energy</th>\n",
       "      <th>key</th>\n",
       "      <th>loudness</th>\n",
       "      <th>mode</th>\n",
       "      <th>...</th>\n",
       "      <th>liveness</th>\n",
       "      <th>valence</th>\n",
       "      <th>tempo</th>\n",
       "      <th>type</th>\n",
       "      <th>id</th>\n",
       "      <th>uri</th>\n",
       "      <th>track_href</th>\n",
       "      <th>analysis_url</th>\n",
       "      <th>duration_ms</th>\n",
       "      <th>time_signature</th>\n",
       "    </tr>\n",
       "  </thead>\n",
       "  <tbody>\n",
       "    <tr>\n",
       "      <th>0</th>\n",
       "      <td>0</td>\n",
       "      <td>Pingo de dó</td>\n",
       "      <td>Hugo &amp; Guilherme</td>\n",
       "      <td>1</td>\n",
       "      <td>sertanejo</td>\n",
       "      <td>0.522</td>\n",
       "      <td>0.738</td>\n",
       "      <td>0</td>\n",
       "      <td>-4.480</td>\n",
       "      <td>0</td>\n",
       "      <td>...</td>\n",
       "      <td>0.6520</td>\n",
       "      <td>0.608</td>\n",
       "      <td>129.685</td>\n",
       "      <td>audio_features</td>\n",
       "      <td>1a17gIb57XhPj2CMbqYABw</td>\n",
       "      <td>spotify:track:1a17gIb57XhPj2CMbqYABw</td>\n",
       "      <td>https://api.spotify.com/v1/tracks/1a17gIb57XhP...</td>\n",
       "      <td>https://api.spotify.com/v1/audio-analysis/1a17...</td>\n",
       "      <td>161840</td>\n",
       "      <td>4</td>\n",
       "    </tr>\n",
       "    <tr>\n",
       "      <th>1</th>\n",
       "      <td>1</td>\n",
       "      <td>Troca</td>\n",
       "      <td>Jorge &amp; Matheus</td>\n",
       "      <td>1</td>\n",
       "      <td>sertanejo</td>\n",
       "      <td>0.758</td>\n",
       "      <td>0.697</td>\n",
       "      <td>1</td>\n",
       "      <td>-4.103</td>\n",
       "      <td>1</td>\n",
       "      <td>...</td>\n",
       "      <td>0.0887</td>\n",
       "      <td>0.810</td>\n",
       "      <td>94.980</td>\n",
       "      <td>audio_features</td>\n",
       "      <td>6HV630GY0GT3RN2efFRmbP</td>\n",
       "      <td>spotify:track:6HV630GY0GT3RN2efFRmbP</td>\n",
       "      <td>https://api.spotify.com/v1/tracks/6HV630GY0GT3...</td>\n",
       "      <td>https://api.spotify.com/v1/audio-analysis/6HV6...</td>\n",
       "      <td>171264</td>\n",
       "      <td>4</td>\n",
       "    </tr>\n",
       "    <tr>\n",
       "      <th>2</th>\n",
       "      <td>2</td>\n",
       "      <td>Foto nao é fato</td>\n",
       "      <td>Diego &amp; Victor Hugo</td>\n",
       "      <td>1</td>\n",
       "      <td>sertanejo</td>\n",
       "      <td>0.541</td>\n",
       "      <td>0.863</td>\n",
       "      <td>11</td>\n",
       "      <td>-3.931</td>\n",
       "      <td>0</td>\n",
       "      <td>...</td>\n",
       "      <td>0.2980</td>\n",
       "      <td>0.745</td>\n",
       "      <td>156.877</td>\n",
       "      <td>audio_features</td>\n",
       "      <td>5QEpLMQPyCB9UCzdOKG3uW</td>\n",
       "      <td>spotify:track:5QEpLMQPyCB9UCzdOKG3uW</td>\n",
       "      <td>https://api.spotify.com/v1/tracks/5QEpLMQPyCB9...</td>\n",
       "      <td>https://api.spotify.com/v1/audio-analysis/5QEp...</td>\n",
       "      <td>166760</td>\n",
       "      <td>4</td>\n",
       "    </tr>\n",
       "    <tr>\n",
       "      <th>3</th>\n",
       "      <td>3</td>\n",
       "      <td>Sua cama nao explica nada</td>\n",
       "      <td>Hugo &amp; Vitor, Marcos &amp; Belutti</td>\n",
       "      <td>1</td>\n",
       "      <td>sertanejo</td>\n",
       "      <td>0.534</td>\n",
       "      <td>0.895</td>\n",
       "      <td>1</td>\n",
       "      <td>-4.217</td>\n",
       "      <td>1</td>\n",
       "      <td>...</td>\n",
       "      <td>0.3930</td>\n",
       "      <td>0.612</td>\n",
       "      <td>160.120</td>\n",
       "      <td>audio_features</td>\n",
       "      <td>0UoxMEhVm61u9ZLD4iDu83</td>\n",
       "      <td>spotify:track:0UoxMEhVm61u9ZLD4iDu83</td>\n",
       "      <td>https://api.spotify.com/v1/tracks/0UoxMEhVm61u...</td>\n",
       "      <td>https://api.spotify.com/v1/audio-analysis/0Uox...</td>\n",
       "      <td>175103</td>\n",
       "      <td>4</td>\n",
       "    </tr>\n",
       "    <tr>\n",
       "      <th>4</th>\n",
       "      <td>4</td>\n",
       "      <td>Batom de cereja</td>\n",
       "      <td>Israel &amp; Rodolffo</td>\n",
       "      <td>1</td>\n",
       "      <td>sertanejo</td>\n",
       "      <td>0.606</td>\n",
       "      <td>0.908</td>\n",
       "      <td>6</td>\n",
       "      <td>-6.201</td>\n",
       "      <td>0</td>\n",
       "      <td>...</td>\n",
       "      <td>0.1900</td>\n",
       "      <td>0.798</td>\n",
       "      <td>171.966</td>\n",
       "      <td>audio_features</td>\n",
       "      <td>2MZQAvsA7aZDssppBLRxYp</td>\n",
       "      <td>spotify:track:2MZQAvsA7aZDssppBLRxYp</td>\n",
       "      <td>https://api.spotify.com/v1/tracks/2MZQAvsA7aZD...</td>\n",
       "      <td>https://api.spotify.com/v1/audio-analysis/2MZQ...</td>\n",
       "      <td>140942</td>\n",
       "      <td>4</td>\n",
       "    </tr>\n",
       "  </tbody>\n",
       "</table>\n",
       "<p>5 rows × 23 columns</p>\n",
       "</div>"
      ],
      "text/plain": [
       "   Unnamed: 0                      title                    performed_by  \\\n",
       "0           0                Pingo de dó                Hugo & Guilherme   \n",
       "1           1                      Troca                 Jorge & Matheus   \n",
       "2           2            Foto nao é fato             Diego & Victor Hugo   \n",
       "3           3  Sua cama nao explica nada  Hugo & Vitor, Marcos & Belutti   \n",
       "4           4            Batom de cereja               Israel & Rodolffo   \n",
       "\n",
       "   genre_a      genre  danceability  energy  key  loudness  mode  ...  \\\n",
       "0        1  sertanejo         0.522   0.738    0    -4.480     0  ...   \n",
       "1        1  sertanejo         0.758   0.697    1    -4.103     1  ...   \n",
       "2        1  sertanejo         0.541   0.863   11    -3.931     0  ...   \n",
       "3        1  sertanejo         0.534   0.895    1    -4.217     1  ...   \n",
       "4        1  sertanejo         0.606   0.908    6    -6.201     0  ...   \n",
       "\n",
       "   liveness  valence    tempo            type                      id  \\\n",
       "0    0.6520    0.608  129.685  audio_features  1a17gIb57XhPj2CMbqYABw   \n",
       "1    0.0887    0.810   94.980  audio_features  6HV630GY0GT3RN2efFRmbP   \n",
       "2    0.2980    0.745  156.877  audio_features  5QEpLMQPyCB9UCzdOKG3uW   \n",
       "3    0.3930    0.612  160.120  audio_features  0UoxMEhVm61u9ZLD4iDu83   \n",
       "4    0.1900    0.798  171.966  audio_features  2MZQAvsA7aZDssppBLRxYp   \n",
       "\n",
       "                                    uri  \\\n",
       "0  spotify:track:1a17gIb57XhPj2CMbqYABw   \n",
       "1  spotify:track:6HV630GY0GT3RN2efFRmbP   \n",
       "2  spotify:track:5QEpLMQPyCB9UCzdOKG3uW   \n",
       "3  spotify:track:0UoxMEhVm61u9ZLD4iDu83   \n",
       "4  spotify:track:2MZQAvsA7aZDssppBLRxYp   \n",
       "\n",
       "                                          track_href  \\\n",
       "0  https://api.spotify.com/v1/tracks/1a17gIb57XhP...   \n",
       "1  https://api.spotify.com/v1/tracks/6HV630GY0GT3...   \n",
       "2  https://api.spotify.com/v1/tracks/5QEpLMQPyCB9...   \n",
       "3  https://api.spotify.com/v1/tracks/0UoxMEhVm61u...   \n",
       "4  https://api.spotify.com/v1/tracks/2MZQAvsA7aZD...   \n",
       "\n",
       "                                        analysis_url duration_ms  \\\n",
       "0  https://api.spotify.com/v1/audio-analysis/1a17...      161840   \n",
       "1  https://api.spotify.com/v1/audio-analysis/6HV6...      171264   \n",
       "2  https://api.spotify.com/v1/audio-analysis/5QEp...      166760   \n",
       "3  https://api.spotify.com/v1/audio-analysis/0Uox...      175103   \n",
       "4  https://api.spotify.com/v1/audio-analysis/2MZQ...      140942   \n",
       "\n",
       "  time_signature  \n",
       "0              4  \n",
       "1              4  \n",
       "2              4  \n",
       "3              4  \n",
       "4              4  \n",
       "\n",
       "[5 rows x 23 columns]"
      ]
     },
     "execution_count": 193,
     "metadata": {},
     "output_type": "execute_result"
    }
   ],
   "source": [
    "data = pd.read_csv('top_brazil.csv')\n",
    "data.head()"
   ]
  },
  {
   "cell_type": "code",
   "execution_count": 194,
   "metadata": {},
   "outputs": [
    {
     "data": {
      "text/plain": [
       "Index(['Unnamed: 0', 'title', 'performed_by', 'genre_a', 'genre',\n",
       "       'danceability', 'energy', 'key', 'loudness', 'mode', 'speechiness',\n",
       "       'acousticness', 'instrumentalness', 'liveness', 'valence', 'tempo',\n",
       "       'type', 'id', 'uri', 'track_href', 'analysis_url', 'duration_ms',\n",
       "       'time_signature'],\n",
       "      dtype='object')"
      ]
     },
     "execution_count": 194,
     "metadata": {},
     "output_type": "execute_result"
    }
   ],
   "source": [
    "data.keys()"
   ]
  },
  {
   "cell_type": "code",
   "execution_count": 195,
   "metadata": {},
   "outputs": [
    {
     "data": {
      "text/plain": [
       "0      1a17gIb57XhPj2CMbqYABw\n",
       "1      6HV630GY0GT3RN2efFRmbP\n",
       "2      5QEpLMQPyCB9UCzdOKG3uW\n",
       "3      0UoxMEhVm61u9ZLD4iDu83\n",
       "4      2MZQAvsA7aZDssppBLRxYp\n",
       "                ...          \n",
       "230    1XXimziG1uhM0eDNCZCrUl\n",
       "231    3tjFYV6RSFtuktYl3ZtYcq\n",
       "232    6tDDoYIxWvMLTdKpjFkc1B\n",
       "233    61KpQadow081I2AsbeLcsb\n",
       "234    3H7ihDc1dqLriiWXwsc2po\n",
       "Name: id, Length: 235, dtype: object"
      ]
     },
     "execution_count": 195,
     "metadata": {},
     "output_type": "execute_result"
    }
   ],
   "source": [
    "data['id']"
   ]
  },
  {
   "cell_type": "code",
   "execution_count": 196,
   "metadata": {},
   "outputs": [
    {
     "data": {
      "text/plain": [
       "(235,)"
      ]
     },
     "execution_count": 196,
     "metadata": {},
     "output_type": "execute_result"
    }
   ],
   "source": [
    "data['id'].shape"
   ]
  },
  {
   "cell_type": "code",
   "execution_count": 197,
   "metadata": {},
   "outputs": [],
   "source": [
    "X = data.drop(columns=['id', 'Unnamed: 0', 'type', 'key', 'tempo','uri', 'time_signature', 'mode', 'track_href', 'analysis_url', 'duration_ms', 'title', 'performed_by', 'genre'])\n",
    "y = pd.DataFrame(data['id'])"
   ]
  },
  {
   "cell_type": "code",
   "execution_count": 199,
   "metadata": {},
   "outputs": [
    {
     "data": {
      "text/html": [
       "<div>\n",
       "<style scoped>\n",
       "    .dataframe tbody tr th:only-of-type {\n",
       "        vertical-align: middle;\n",
       "    }\n",
       "\n",
       "    .dataframe tbody tr th {\n",
       "        vertical-align: top;\n",
       "    }\n",
       "\n",
       "    .dataframe thead th {\n",
       "        text-align: right;\n",
       "    }\n",
       "</style>\n",
       "<table border=\"1\" class=\"dataframe\">\n",
       "  <thead>\n",
       "    <tr style=\"text-align: right;\">\n",
       "      <th></th>\n",
       "      <th>genre_a</th>\n",
       "      <th>danceability</th>\n",
       "      <th>energy</th>\n",
       "      <th>loudness</th>\n",
       "      <th>speechiness</th>\n",
       "      <th>acousticness</th>\n",
       "      <th>instrumentalness</th>\n",
       "      <th>liveness</th>\n",
       "      <th>valence</th>\n",
       "    </tr>\n",
       "  </thead>\n",
       "  <tbody>\n",
       "    <tr>\n",
       "      <th>0</th>\n",
       "      <td>1</td>\n",
       "      <td>0.522</td>\n",
       "      <td>0.738</td>\n",
       "      <td>-4.480</td>\n",
       "      <td>0.1170</td>\n",
       "      <td>0.685</td>\n",
       "      <td>0.0</td>\n",
       "      <td>0.6520</td>\n",
       "      <td>0.608</td>\n",
       "    </tr>\n",
       "    <tr>\n",
       "      <th>1</th>\n",
       "      <td>1</td>\n",
       "      <td>0.758</td>\n",
       "      <td>0.697</td>\n",
       "      <td>-4.103</td>\n",
       "      <td>0.0347</td>\n",
       "      <td>0.647</td>\n",
       "      <td>0.0</td>\n",
       "      <td>0.0887</td>\n",
       "      <td>0.810</td>\n",
       "    </tr>\n",
       "    <tr>\n",
       "      <th>2</th>\n",
       "      <td>1</td>\n",
       "      <td>0.541</td>\n",
       "      <td>0.863</td>\n",
       "      <td>-3.931</td>\n",
       "      <td>0.1690</td>\n",
       "      <td>0.149</td>\n",
       "      <td>0.0</td>\n",
       "      <td>0.2980</td>\n",
       "      <td>0.745</td>\n",
       "    </tr>\n",
       "    <tr>\n",
       "      <th>3</th>\n",
       "      <td>1</td>\n",
       "      <td>0.534</td>\n",
       "      <td>0.895</td>\n",
       "      <td>-4.217</td>\n",
       "      <td>0.0579</td>\n",
       "      <td>0.431</td>\n",
       "      <td>0.0</td>\n",
       "      <td>0.3930</td>\n",
       "      <td>0.612</td>\n",
       "    </tr>\n",
       "    <tr>\n",
       "      <th>4</th>\n",
       "      <td>1</td>\n",
       "      <td>0.606</td>\n",
       "      <td>0.908</td>\n",
       "      <td>-6.201</td>\n",
       "      <td>0.0565</td>\n",
       "      <td>0.556</td>\n",
       "      <td>0.0</td>\n",
       "      <td>0.1900</td>\n",
       "      <td>0.798</td>\n",
       "    </tr>\n",
       "  </tbody>\n",
       "</table>\n",
       "</div>"
      ],
      "text/plain": [
       "   genre_a  danceability  energy  loudness  speechiness  acousticness  \\\n",
       "0        1         0.522   0.738    -4.480       0.1170         0.685   \n",
       "1        1         0.758   0.697    -4.103       0.0347         0.647   \n",
       "2        1         0.541   0.863    -3.931       0.1690         0.149   \n",
       "3        1         0.534   0.895    -4.217       0.0579         0.431   \n",
       "4        1         0.606   0.908    -6.201       0.0565         0.556   \n",
       "\n",
       "   instrumentalness  liveness  valence  \n",
       "0               0.0    0.6520    0.608  \n",
       "1               0.0    0.0887    0.810  \n",
       "2               0.0    0.2980    0.745  \n",
       "3               0.0    0.3930    0.612  \n",
       "4               0.0    0.1900    0.798  "
      ]
     },
     "execution_count": 199,
     "metadata": {},
     "output_type": "execute_result"
    }
   ],
   "source": [
    "X.head()"
   ]
  },
  {
   "cell_type": "markdown",
   "metadata": {},
   "source": [
    "### The model"
   ]
  },
  {
   "cell_type": "code",
   "execution_count": 200,
   "metadata": {},
   "outputs": [],
   "source": [
    "from sklearn.preprocessing import StandardScaler\n",
    "X_prep = StandardScaler().fit_transform(X)"
   ]
  },
  {
   "cell_type": "code",
   "execution_count": 201,
   "metadata": {},
   "outputs": [],
   "source": [
    "# dataframe of scaled features\n",
    "X_prep_df = pd.DataFrame(X_prep)"
   ]
  },
  {
   "cell_type": "code",
   "execution_count": 231,
   "metadata": {},
   "outputs": [
    {
     "data": {
      "text/plain": [
       "KMeans(n_clusters=20, random_state=1234)"
      ]
     },
     "execution_count": 231,
     "metadata": {},
     "output_type": "execute_result"
    }
   ],
   "source": [
    "from sklearn.cluster import KMeans\n",
    "\n",
    "kmeans = KMeans(n_clusters=20, random_state=1234)\n",
    "kmeans.fit(X_prep_df)"
   ]
  },
  {
   "cell_type": "code",
   "execution_count": 232,
   "metadata": {},
   "outputs": [
    {
     "data": {
      "text/plain": [
       "array([[ 6.12527883e-01, -3.68144868e-01, -3.73110890e-01,\n",
       "        -7.28080326e-01, -4.87273380e-01,  9.21980396e-01,\n",
       "        -1.46895748e-01, -4.83960589e-01,  3.92500381e-01],\n",
       "       [-1.20046987e+00, -1.66835498e-01,  6.83410252e-01,\n",
       "         7.07134232e-01, -3.06254384e-01, -2.54286910e-01,\n",
       "        -9.29101337e-02,  1.24354159e+00, -3.44538751e-01],\n",
       "       [-5.54077510e-01,  1.05950421e+00, -8.67209053e-01,\n",
       "         4.98267330e-01, -2.90062506e-01, -9.78523292e-02,\n",
       "        -1.10688584e-01, -6.83142721e-01,  4.61854897e-01],\n",
       "       [ 4.99630587e-01,  1.57119749e+00, -6.25877307e-01,\n",
       "         9.60191351e-01,  5.58499778e-01, -9.54411342e-01,\n",
       "         1.02978768e+01, -9.60198303e-01, -7.73131026e-02],\n",
       "       [ 4.99630587e-01, -1.13664401e-01,  7.43394484e-01,\n",
       "        -7.32116287e-01, -5.08549934e-01,  5.75122439e-01,\n",
       "        -1.48037110e-01,  1.42021534e+00,  1.04968627e+00],\n",
       "       [-2.13517345e-03,  9.46898573e-01, -8.52965866e-01,\n",
       "         4.87302048e-01,  2.55696503e+00,  7.87653378e-01,\n",
       "        -1.14373988e-01, -7.86737569e-01,  8.16999175e-01],\n",
       "       [-1.11658334e+00,  1.45934306e-01,  1.32441515e+00,\n",
       "         1.18381742e+00, -1.25700618e-01, -5.64866139e-01,\n",
       "        -1.41619514e-01, -8.72021693e-02,  1.09605035e+00],\n",
       "       [ 4.99630587e-01, -1.05275479e+00,  2.08798983e-01,\n",
       "        -6.26147362e-01, -4.43647944e-01,  8.10053901e-01,\n",
       "        -1.48028307e-01,  1.67696047e+00, -8.14186553e-02],\n",
       "       [ 1.05157292e+00,  5.26773131e-02,  5.25798537e-02,\n",
       "         1.59975876e-01, -4.50392786e-01, -1.37587043e+00,\n",
       "        -1.37038613e-01, -5.40950452e-01, -1.21709275e+00],\n",
       "       [ 3.18994913e-01,  1.51456348e+00, -7.74648398e-01,\n",
       "        -1.08123086e+00,  6.86485322e-03, -8.16098771e-01,\n",
       "         4.10094931e-01, -6.05098525e-01,  1.22498499e+00],\n",
       "       [ 3.49100859e-01,  1.03901164e+00, -2.53949579e-01,\n",
       "         1.43521372e-01,  2.56375476e+00, -1.11858216e+00,\n",
       "        -2.43140285e-02, -7.63078261e-01, -5.53347755e-01],\n",
       "       [ 1.33333370e+00,  7.35444543e-01,  2.05196451e-01,\n",
       "         3.33162323e-01, -4.11572608e-01, -8.45996493e-01,\n",
       "        -5.69036962e-02, -6.43386111e-01,  5.15878042e-01],\n",
       "       [-1.04867519e+00, -1.39357181e+00, -1.05919116e+00,\n",
       "         2.42519194e-01, -5.00248824e-01, -9.87238059e-02,\n",
       "        -1.48037110e-01, -5.52591222e-01, -3.09175092e-01],\n",
       "       [-6.29342374e-01,  1.29547927e+00, -2.57217872e+00,\n",
       "        -2.25325495e+00,  1.13124460e+00,  9.87648724e-01,\n",
       "        -1.41550731e-01, -6.89578544e-01, -5.41827072e-01],\n",
       "       [-4.03547782e-01,  1.26269116e+00,  7.21728791e-01,\n",
       "         2.31380999e+00,  2.83293392e-01,  2.42259373e-01,\n",
       "        -1.44060038e-01, -8.27142275e-01, -7.30397623e-01],\n",
       "       [ 7.25425180e-01, -7.31422255e-01, -1.62249918e+00,\n",
       "        -1.29042948e+00, -2.39509859e-01,  1.17496494e+00,\n",
       "        -1.47560181e-01, -5.99109270e-01, -2.54227860e+00],\n",
       "       [ 1.40280896e+00,  1.26070400e+00, -1.29269919e+00,\n",
       "        -1.32522088e+00,  7.72376360e-01, -7.98529802e-01,\n",
       "         1.88523080e+00, -5.81141505e-01, -2.36025180e+00],\n",
       "       [-1.24221341e+00,  8.18932722e-02,  3.05747487e-01,\n",
       "         4.12747158e-01, -4.83583116e-01,  7.89874789e-01,\n",
       "        -1.32025125e-01, -5.02065326e-01,  5.13994220e-01],\n",
       "       [ 1.28991166e+00, -4.50115150e-01, -1.32188769e+00,\n",
       "        -1.34611152e+00, -2.17566677e-01, -7.66287730e-01,\n",
       "        -1.47711914e-01, -3.04611297e-01, -6.46895707e-01],\n",
       "       [-1.19382886e+00, -6.43397349e-01,  7.02951857e-01,\n",
       "         3.12887589e-01,  3.58511286e-01, -1.24810434e-01,\n",
       "        -1.46373960e-01, -3.47501455e-01, -3.75583605e-01]])"
      ]
     },
     "execution_count": 232,
     "metadata": {},
     "output_type": "execute_result"
    }
   ],
   "source": [
    "kmeans.cluster_centers_"
   ]
  },
  {
   "cell_type": "markdown",
   "metadata": {},
   "source": [
    "### Assessing the optimality of no. of clusters"
   ]
  },
  {
   "cell_type": "code",
   "execution_count": 233,
   "metadata": {},
   "outputs": [
    {
     "data": {
      "text/plain": [
       "581.7015823567956"
      ]
     },
     "execution_count": 233,
     "metadata": {},
     "output_type": "execute_result"
    }
   ],
   "source": [
    "# total inertia of all the centroids\n",
    "kmeans.inertia_"
   ]
  },
  {
   "cell_type": "code",
   "execution_count": 234,
   "metadata": {},
   "outputs": [
    {
     "data": {
      "text/plain": [
       "array([ 1, 17, 19, 19, 17,  1,  1, 19,  1,  6, 17,  2, 17,  6,  6,  6, 19,\n",
       "        6, 17, 19,  6, 19,  1, 17,  1, 17,  6, 13, 17, 12,  1,  6, 19, 17,\n",
       "       17,  1, 19, 17, 19, 19, 19,  1, 19,  2, 12, 12,  6,  6,  6,  1,  6,\n",
       "       17, 19,  1,  6,  1,  6,  1,  6, 12, 17,  1,  1, 19, 12, 14,  2,  5,\n",
       "        2, 17,  2,  8,  5,  9,  9, 15, 13,  2, 12,  2,  5,  8, 13, 14,  3,\n",
       "        5, 10, 10, 14,  5,  6, 19, 10,  5,  6,  2, 14,  5,  2,  1,  2, 13,\n",
       "        2, 10,  6, 10,  2,  1,  6, 10, 12, 14,  8, 19, 10,  9,  7,  7,  7,\n",
       "        0,  7,  0,  0,  7,  8,  0,  7,  0,  4,  0,  0,  4,  0,  0,  7,  0,\n",
       "        0,  7,  7,  0,  0,  0,  0, 11, 15,  7,  7,  4,  4,  4,  7,  7, 18,\n",
       "        7,  7,  7,  7,  0,  0,  4,  7,  7,  7,  7,  7,  7,  4,  7,  7,  0,\n",
       "        7,  0,  7,  7,  9,  0,  7,  4,  7,  4,  7,  7,  7,  4,  0, 11,  8,\n",
       "        8, 18, 11, 16,  8, 11,  8, 11,  8,  9,  8,  0,  8, 18, 11,  5, 11,\n",
       "       18, 10, 11,  8,  8, 11, 16,  3, 18, 11, 18, 11,  0, 10,  5,  8, 16,\n",
       "        8, 11, 10,  8, 15, 18,  0,  8,  8, 10, 11, 18, 15, 10])"
      ]
     },
     "execution_count": 234,
     "metadata": {},
     "output_type": "execute_result"
    }
   ],
   "source": [
    "clusters = kmeans.predict(X_prep)\n",
    "clusters"
   ]
  },
  {
   "cell_type": "code",
   "execution_count": 235,
   "metadata": {},
   "outputs": [
    {
     "data": {
      "text/plain": [
       "0     24\n",
       "1     17\n",
       "2     12\n",
       "3      2\n",
       "4     10\n",
       "5      9\n",
       "6     19\n",
       "7     33\n",
       "8     18\n",
       "9      5\n",
       "10    12\n",
       "11    13\n",
       "12     7\n",
       "13     4\n",
       "14     5\n",
       "15     4\n",
       "16     3\n",
       "17    14\n",
       "18     8\n",
       "19    16\n",
       "dtype: int64"
      ]
     },
     "execution_count": 235,
     "metadata": {},
     "output_type": "execute_result"
    }
   ],
   "source": [
    "pd.Series(clusters).value_counts().sort_index()"
   ]
  },
  {
   "cell_type": "code",
   "execution_count": 236,
   "metadata": {},
   "outputs": [
    {
     "data": {
      "text/plain": [
       "array([[ 6.12527883e-01, -3.68144868e-01, -3.73110890e-01,\n",
       "        -7.28080326e-01, -4.87273380e-01,  9.21980396e-01,\n",
       "        -1.46895748e-01, -4.83960589e-01,  3.92500381e-01],\n",
       "       [-1.20046987e+00, -1.66835498e-01,  6.83410252e-01,\n",
       "         7.07134232e-01, -3.06254384e-01, -2.54286910e-01,\n",
       "        -9.29101337e-02,  1.24354159e+00, -3.44538751e-01],\n",
       "       [-5.54077510e-01,  1.05950421e+00, -8.67209053e-01,\n",
       "         4.98267330e-01, -2.90062506e-01, -9.78523292e-02,\n",
       "        -1.10688584e-01, -6.83142721e-01,  4.61854897e-01],\n",
       "       [ 4.99630587e-01,  1.57119749e+00, -6.25877307e-01,\n",
       "         9.60191351e-01,  5.58499778e-01, -9.54411342e-01,\n",
       "         1.02978768e+01, -9.60198303e-01, -7.73131026e-02],\n",
       "       [ 4.99630587e-01, -1.13664401e-01,  7.43394484e-01,\n",
       "        -7.32116287e-01, -5.08549934e-01,  5.75122439e-01,\n",
       "        -1.48037110e-01,  1.42021534e+00,  1.04968627e+00],\n",
       "       [-2.13517345e-03,  9.46898573e-01, -8.52965866e-01,\n",
       "         4.87302048e-01,  2.55696503e+00,  7.87653378e-01,\n",
       "        -1.14373988e-01, -7.86737569e-01,  8.16999175e-01],\n",
       "       [-1.11658334e+00,  1.45934306e-01,  1.32441515e+00,\n",
       "         1.18381742e+00, -1.25700618e-01, -5.64866139e-01,\n",
       "        -1.41619514e-01, -8.72021693e-02,  1.09605035e+00],\n",
       "       [ 4.99630587e-01, -1.05275479e+00,  2.08798983e-01,\n",
       "        -6.26147362e-01, -4.43647944e-01,  8.10053901e-01,\n",
       "        -1.48028307e-01,  1.67696047e+00, -8.14186553e-02],\n",
       "       [ 1.05157292e+00,  5.26773131e-02,  5.25798537e-02,\n",
       "         1.59975876e-01, -4.50392786e-01, -1.37587043e+00,\n",
       "        -1.37038613e-01, -5.40950452e-01, -1.21709275e+00],\n",
       "       [ 3.18994913e-01,  1.51456348e+00, -7.74648398e-01,\n",
       "        -1.08123086e+00,  6.86485322e-03, -8.16098771e-01,\n",
       "         4.10094931e-01, -6.05098525e-01,  1.22498499e+00],\n",
       "       [ 3.49100859e-01,  1.03901164e+00, -2.53949579e-01,\n",
       "         1.43521372e-01,  2.56375476e+00, -1.11858216e+00,\n",
       "        -2.43140285e-02, -7.63078261e-01, -5.53347755e-01],\n",
       "       [ 1.33333370e+00,  7.35444543e-01,  2.05196451e-01,\n",
       "         3.33162323e-01, -4.11572608e-01, -8.45996493e-01,\n",
       "        -5.69036962e-02, -6.43386111e-01,  5.15878042e-01],\n",
       "       [-1.04867519e+00, -1.39357181e+00, -1.05919116e+00,\n",
       "         2.42519194e-01, -5.00248824e-01, -9.87238059e-02,\n",
       "        -1.48037110e-01, -5.52591222e-01, -3.09175092e-01],\n",
       "       [-6.29342374e-01,  1.29547927e+00, -2.57217872e+00,\n",
       "        -2.25325495e+00,  1.13124460e+00,  9.87648724e-01,\n",
       "        -1.41550731e-01, -6.89578544e-01, -5.41827072e-01],\n",
       "       [-4.03547782e-01,  1.26269116e+00,  7.21728791e-01,\n",
       "         2.31380999e+00,  2.83293392e-01,  2.42259373e-01,\n",
       "        -1.44060038e-01, -8.27142275e-01, -7.30397623e-01],\n",
       "       [ 7.25425180e-01, -7.31422255e-01, -1.62249918e+00,\n",
       "        -1.29042948e+00, -2.39509859e-01,  1.17496494e+00,\n",
       "        -1.47560181e-01, -5.99109270e-01, -2.54227860e+00],\n",
       "       [ 1.40280896e+00,  1.26070400e+00, -1.29269919e+00,\n",
       "        -1.32522088e+00,  7.72376360e-01, -7.98529802e-01,\n",
       "         1.88523080e+00, -5.81141505e-01, -2.36025180e+00],\n",
       "       [-1.24221341e+00,  8.18932722e-02,  3.05747487e-01,\n",
       "         4.12747158e-01, -4.83583116e-01,  7.89874789e-01,\n",
       "        -1.32025125e-01, -5.02065326e-01,  5.13994220e-01],\n",
       "       [ 1.28991166e+00, -4.50115150e-01, -1.32188769e+00,\n",
       "        -1.34611152e+00, -2.17566677e-01, -7.66287730e-01,\n",
       "        -1.47711914e-01, -3.04611297e-01, -6.46895707e-01],\n",
       "       [-1.19382886e+00, -6.43397349e-01,  7.02951857e-01,\n",
       "         3.12887589e-01,  3.58511286e-01, -1.24810434e-01,\n",
       "        -1.46373960e-01, -3.47501455e-01, -3.75583605e-01]])"
      ]
     },
     "execution_count": 236,
     "metadata": {},
     "output_type": "execute_result"
    }
   ],
   "source": [
    "kmeans.cluster_centers_"
   ]
  },
  {
   "cell_type": "code",
   "execution_count": 237,
   "metadata": {},
   "outputs": [
    {
     "data": {
      "text/html": [
       "<div>\n",
       "<style scoped>\n",
       "    .dataframe tbody tr th:only-of-type {\n",
       "        vertical-align: middle;\n",
       "    }\n",
       "\n",
       "    .dataframe tbody tr th {\n",
       "        vertical-align: top;\n",
       "    }\n",
       "\n",
       "    .dataframe thead th {\n",
       "        text-align: right;\n",
       "    }\n",
       "</style>\n",
       "<table border=\"1\" class=\"dataframe\">\n",
       "  <thead>\n",
       "    <tr style=\"text-align: right;\">\n",
       "      <th></th>\n",
       "      <th>genre_a</th>\n",
       "      <th>danceability</th>\n",
       "      <th>energy</th>\n",
       "      <th>loudness</th>\n",
       "      <th>speechiness</th>\n",
       "      <th>acousticness</th>\n",
       "      <th>instrumentalness</th>\n",
       "      <th>liveness</th>\n",
       "      <th>valence</th>\n",
       "      <th>cluster</th>\n",
       "    </tr>\n",
       "  </thead>\n",
       "  <tbody>\n",
       "    <tr>\n",
       "      <th>0</th>\n",
       "      <td>1</td>\n",
       "      <td>0.522</td>\n",
       "      <td>0.738</td>\n",
       "      <td>-4.480</td>\n",
       "      <td>0.1170</td>\n",
       "      <td>0.685</td>\n",
       "      <td>0.0</td>\n",
       "      <td>0.6520</td>\n",
       "      <td>0.608</td>\n",
       "      <td>1</td>\n",
       "    </tr>\n",
       "    <tr>\n",
       "      <th>1</th>\n",
       "      <td>1</td>\n",
       "      <td>0.758</td>\n",
       "      <td>0.697</td>\n",
       "      <td>-4.103</td>\n",
       "      <td>0.0347</td>\n",
       "      <td>0.647</td>\n",
       "      <td>0.0</td>\n",
       "      <td>0.0887</td>\n",
       "      <td>0.810</td>\n",
       "      <td>17</td>\n",
       "    </tr>\n",
       "    <tr>\n",
       "      <th>2</th>\n",
       "      <td>1</td>\n",
       "      <td>0.541</td>\n",
       "      <td>0.863</td>\n",
       "      <td>-3.931</td>\n",
       "      <td>0.1690</td>\n",
       "      <td>0.149</td>\n",
       "      <td>0.0</td>\n",
       "      <td>0.2980</td>\n",
       "      <td>0.745</td>\n",
       "      <td>19</td>\n",
       "    </tr>\n",
       "    <tr>\n",
       "      <th>3</th>\n",
       "      <td>1</td>\n",
       "      <td>0.534</td>\n",
       "      <td>0.895</td>\n",
       "      <td>-4.217</td>\n",
       "      <td>0.0579</td>\n",
       "      <td>0.431</td>\n",
       "      <td>0.0</td>\n",
       "      <td>0.3930</td>\n",
       "      <td>0.612</td>\n",
       "      <td>19</td>\n",
       "    </tr>\n",
       "    <tr>\n",
       "      <th>4</th>\n",
       "      <td>1</td>\n",
       "      <td>0.606</td>\n",
       "      <td>0.908</td>\n",
       "      <td>-6.201</td>\n",
       "      <td>0.0565</td>\n",
       "      <td>0.556</td>\n",
       "      <td>0.0</td>\n",
       "      <td>0.1900</td>\n",
       "      <td>0.798</td>\n",
       "      <td>17</td>\n",
       "    </tr>\n",
       "  </tbody>\n",
       "</table>\n",
       "</div>"
      ],
      "text/plain": [
       "   genre_a  danceability  energy  loudness  speechiness  acousticness  \\\n",
       "0        1         0.522   0.738    -4.480       0.1170         0.685   \n",
       "1        1         0.758   0.697    -4.103       0.0347         0.647   \n",
       "2        1         0.541   0.863    -3.931       0.1690         0.149   \n",
       "3        1         0.534   0.895    -4.217       0.0579         0.431   \n",
       "4        1         0.606   0.908    -6.201       0.0565         0.556   \n",
       "\n",
       "   instrumentalness  liveness  valence  cluster  \n",
       "0               0.0    0.6520    0.608        1  \n",
       "1               0.0    0.0887    0.810       17  \n",
       "2               0.0    0.2980    0.745       19  \n",
       "3               0.0    0.3930    0.612       19  \n",
       "4               0.0    0.1900    0.798       17  "
      ]
     },
     "execution_count": 237,
     "metadata": {},
     "output_type": "execute_result"
    }
   ],
   "source": [
    "X_df = pd.DataFrame(X)\n",
    "X_df['cluster'] = clusters\n",
    "X_df.head()"
   ]
  },
  {
   "cell_type": "code",
   "execution_count": 238,
   "metadata": {},
   "outputs": [
    {
     "data": {
      "text/plain": [
       "<AxesSubplot:ylabel='Frequency'>"
      ]
     },
     "execution_count": 238,
     "metadata": {},
     "output_type": "execute_result"
    },
    {
     "data": {
      "image/png": "[encoded data removed]",
      "text/plain": [
       "<Figure size 432x288 with 1 Axes>"
      ]
     },
     "metadata": {
      "needs_background": "light"
     },
     "output_type": "display_data"
    }
   ],
   "source": [
    "X_df['cluster'].plot(kind='hist')"
   ]
  },
  {
   "cell_type": "markdown",
   "metadata": {},
   "source": [
    "```python\n",
    "def get_inertia(n_clusters):\n",
    "    kmeans = KMeans(n_clusters=8, random_state=1234)\n",
    "    \n",
    "    # train your model here\n",
    "    # calculate an inertia\n",
    "    reture kmeans.inertia\n",
    "    \n",
    "cluster_range = range(1,11)\n",
    "\n",
    "dct = {cluster_number:get_inertia(cluster_number) for cluster_number in cluster_range}\n",
    "\n",
    "```"
   ]
  },
  {
   "cell_type": "code",
   "execution_count": 239,
   "metadata": {},
   "outputs": [
    {
     "name": "stderr",
     "output_type": "stream",
     "text": [
      "C:\\Users\\kaypa\\anaconda3\\lib\\site-packages\\sklearn\\cluster\\_kmeans.py:881: UserWarning: KMeans is known to have a memory leak on Windows with MKL, when there are less chunks than available threads. You can avoid it by setting the environment variable OMP_NUM_THREADS=1.\n",
      "  warnings.warn(\n"
     ]
    },
    {
     "data": {
      "text/plain": [
       "Text(0, 0.5, 'inertia')"
      ]
     },
     "execution_count": 239,
     "metadata": {},
     "output_type": "execute_result"
    },
    {
     "data": {
      "image/png": "[encoded data removed]",
      "text/plain": [
       "<Figure size 432x288 with 1 Axes>"
      ]
     },
     "metadata": {
      "needs_background": "light"
     },
     "output_type": "display_data"
    }
   ],
   "source": [
    "# I want to iterate over a range of n_clusters and for every value, I want to return the inertia\n",
    "def get_kmeans_inertia_varying_cluster_n(n_clusters):\n",
    "    \n",
    "    # setup the model\n",
    "    kmeans = KMeans(n_clusters=n_clusters,\n",
    "                    random_state=1234,\n",
    "                    n_init=3,\n",
    "                    #algorithm='elkan',\n",
    "                   )\n",
    "    # train the model\n",
    "    kmeans.fit(X_prep_df)\n",
    "    \n",
    "    # return the resulting inertia\n",
    "    return kmeans.inertia_\n",
    "\n",
    "# Plot for a range of cluster numbers\n",
    "import matplotlib.pyplot as plt\n",
    "\n",
    "cluster_range = range(1,20)\n",
    "\n",
    "plt.plot(cluster_range,\n",
    "         [get_kmeans_inertia_varying_cluster_n(c_number) for c_number in cluster_range],\n",
    "         marker=\"o\",\n",
    "         ms=10,\n",
    "        )\n",
    "plt.xlabel('Cluster Number')\n",
    "plt.ylabel('inertia')"
   ]
  },
  {
   "cell_type": "code",
   "execution_count": 213,
   "metadata": {},
   "outputs": [
    {
     "data": {
      "text/plain": [
       "Text(0, 0.5, 'inertia')"
      ]
     },
     "execution_count": 213,
     "metadata": {},
     "output_type": "execute_result"
    },
    {
     "data": {
      "image/png": "[encoded data removed]",
      "text/plain": [
       "<Figure size 432x288 with 1 Axes>"
      ]
     },
     "metadata": {
      "needs_background": "light"
     },
     "output_type": "display_data"
    }
   ],
   "source": [
    "# I want to iterate over a range of mx_iter and for every value, I want to return the inertia\n",
    "def get_kmeans_ineratia_varying_max_iter(max_iter):\n",
    "    kmeans = KMeans(n_clusters=5,\n",
    "                    random_state=1234,\n",
    "                    n_init=3,\n",
    "                    algorithm='elkan',\n",
    "                    max_iter=max_iter,\n",
    "                   )\n",
    "    kmeans.fit(X_prep_df)\n",
    "\n",
    "    return kmeans.inertia_\n",
    "\n",
    "max_iter_list = [1, 5, 10, 20, 30, 40, 50, 100]\n",
    "\n",
    "plt.plot(max_iter_list,\n",
    "         [get_kmeans_ineratia_varying_max_iter(x) for x in max_iter_list],\n",
    "        )\n",
    "plt.xlabel('Max iter')\n",
    "plt.ylabel('inertia')"
   ]
  },
  {
   "cell_type": "code",
   "execution_count": 240,
   "metadata": {},
   "outputs": [],
   "source": [
    "from sklearn.metrics import silhouette_score\n",
    "\n",
    "K = range(2, 20)\n",
    "\n",
    "silhouettes = []\n",
    "\n",
    "for k in K:\n",
    "    kmeans = KMeans(n_clusters=k,\n",
    "                   random_state=1234)\n",
    "    kmeans.fit(X_prep)\n",
    "    silhouettes.append(silhouette_score(X_prep, kmeans.predict(X_prep)))\n"
   ]
  },
  {
   "cell_type": "code",
   "execution_count": 241,
   "metadata": {},
   "outputs": [
    {
     "data": {
      "text/plain": [
       "Text(0, 0.5, 'silhouette score')"
      ]
     },
     "execution_count": 241,
     "metadata": {},
     "output_type": "execute_result"
    },
    {
     "data": {
      "image/png": "[encoded data removed]",
      "text/plain": [
       "<Figure size 1152x576 with 1 Axes>"
      ]
     },
     "metadata": {
      "needs_background": "light"
     },
     "output_type": "display_data"
    }
   ],
   "source": [
    "import matplotlib.pyplot as plt\n",
    "\n",
    "\n",
    "plt.figure(figsize=(16,8))\n",
    "plt.plot(K, silhouettes, 'bo-')\n",
    "plt.xlabel('k (number of clusters)')\n",
    "plt.ylabel('silhouette score')"
   ]
  },
  {
   "cell_type": "markdown",
   "metadata": {},
   "source": [
    "### Visualizing results"
   ]
  },
  {
   "cell_type": "code",
   "execution_count": 242,
   "metadata": {},
   "outputs": [
    {
     "data": {
      "text/plain": [
       "array([ 1, 17, 19, 19, 17,  1,  1, 19,  1,  6, 17,  2, 17,  6,  6,  6, 19,\n",
       "        6, 17, 19,  6, 19,  1, 17,  1, 17,  6, 13, 17, 12,  1,  6, 19, 17,\n",
       "       17,  1, 19, 17, 19, 19, 19,  1, 19,  2, 12, 12,  6,  6,  6,  1,  6,\n",
       "       17, 19,  1,  6,  1,  6,  1,  6, 12, 17,  1,  1, 19, 12, 14,  2,  5,\n",
       "        2, 17,  2,  8,  5,  9,  9, 15, 13,  2, 12,  2,  5,  8, 13, 14,  3,\n",
       "        5, 10, 10, 14,  5,  6, 19, 10,  5,  6,  2, 14,  5,  2,  1,  2, 13,\n",
       "        2, 10,  6, 10,  2,  1,  6, 10, 12, 14,  8, 19, 10,  9,  7,  7,  7,\n",
       "        0,  7,  0,  0,  7,  8,  0,  7,  0,  4,  0,  0,  4,  0,  0,  7,  0,\n",
       "        0,  7,  7,  0,  0,  0,  0, 11, 15,  7,  7,  4,  4,  4,  7,  7, 18,\n",
       "        7,  7,  7,  7,  0,  0,  4,  7,  7,  7,  7,  7,  7,  4,  7,  7,  0,\n",
       "        7,  0,  7,  7,  9,  0,  7,  4,  7,  4,  7,  7,  7,  4,  0, 11,  8,\n",
       "        8, 18, 11, 16,  8, 11,  8, 11,  8,  9,  8,  0,  8, 18, 11,  5, 11,\n",
       "       18, 10, 11,  8,  8, 11, 16,  3, 18, 11, 18, 11,  0, 10,  5,  8, 16,\n",
       "        8, 11, 10,  8, 15, 18,  0,  8,  8, 10, 11, 18, 15, 10])"
      ]
     },
     "execution_count": 242,
     "metadata": {},
     "output_type": "execute_result"
    }
   ],
   "source": [
    "kmeans = KMeans(n_clusters=20,\n",
    "             random_state=1234)\n",
    "\n",
    "kmeans.fit(X_prep)\n",
    "\n",
    "clusters = kmeans.predict(X_prep)\n",
    "clusters"
   ]
  },
  {
   "cell_type": "code",
   "execution_count": 243,
   "metadata": {},
   "outputs": [
    {
     "data": {
      "text/plain": [
       "(235,)"
      ]
     },
     "execution_count": 243,
     "metadata": {},
     "output_type": "execute_result"
    }
   ],
   "source": [
    "clusters.shape"
   ]
  },
  {
   "cell_type": "code",
   "execution_count": 244,
   "metadata": {},
   "outputs": [],
   "source": [
    "songs_clustered = pd.DataFrame(X_prep)"
   ]
  },
  {
   "cell_type": "code",
   "execution_count": 245,
   "metadata": {},
   "outputs": [],
   "source": [
    "songs_clustered['cluster_id'] = clusters"
   ]
  },
  {
   "cell_type": "code",
   "execution_count": 246,
   "metadata": {},
   "outputs": [
    {
     "data": {
      "text/html": [
       "<div>\n",
       "<style scoped>\n",
       "    .dataframe tbody tr th:only-of-type {\n",
       "        vertical-align: middle;\n",
       "    }\n",
       "\n",
       "    .dataframe tbody tr th {\n",
       "        vertical-align: top;\n",
       "    }\n",
       "\n",
       "    .dataframe thead th {\n",
       "        text-align: right;\n",
       "    }\n",
       "</style>\n",
       "<table border=\"1\" class=\"dataframe\">\n",
       "  <thead>\n",
       "    <tr style=\"text-align: right;\">\n",
       "      <th></th>\n",
       "      <th>0</th>\n",
       "      <th>1</th>\n",
       "      <th>2</th>\n",
       "      <th>3</th>\n",
       "      <th>4</th>\n",
       "      <th>5</th>\n",
       "      <th>6</th>\n",
       "      <th>7</th>\n",
       "      <th>8</th>\n",
       "      <th>cluster_id</th>\n",
       "    </tr>\n",
       "  </thead>\n",
       "  <tbody>\n",
       "    <tr>\n",
       "      <th>0</th>\n",
       "      <td>-1.306726</td>\n",
       "      <td>-1.089111</td>\n",
       "      <td>0.262416</td>\n",
       "      <td>0.389628</td>\n",
       "      <td>0.199076</td>\n",
       "      <td>1.228791</td>\n",
       "      <td>-0.148037</td>\n",
       "      <td>0.933510</td>\n",
       "      <td>-0.356574</td>\n",
       "      <td>1</td>\n",
       "    </tr>\n",
       "    <tr>\n",
       "      <th>1</th>\n",
       "      <td>-1.306726</td>\n",
       "      <td>0.669524</td>\n",
       "      <td>-0.033682</td>\n",
       "      <td>0.568285</td>\n",
       "      <td>-0.715316</td>\n",
       "      <td>1.065159</td>\n",
       "      <td>-0.148037</td>\n",
       "      <td>-0.842147</td>\n",
       "      <td>0.760471</td>\n",
       "      <td>17</td>\n",
       "    </tr>\n",
       "    <tr>\n",
       "      <th>2</th>\n",
       "      <td>-1.306726</td>\n",
       "      <td>-0.947526</td>\n",
       "      <td>1.165153</td>\n",
       "      <td>0.649794</td>\n",
       "      <td>0.776821</td>\n",
       "      <td>-1.079289</td>\n",
       "      <td>-0.148037</td>\n",
       "      <td>-0.182383</td>\n",
       "      <td>0.401026</td>\n",
       "      <td>19</td>\n",
       "    </tr>\n",
       "    <tr>\n",
       "      <th>3</th>\n",
       "      <td>-1.306726</td>\n",
       "      <td>-0.999689</td>\n",
       "      <td>1.396254</td>\n",
       "      <td>0.514261</td>\n",
       "      <td>-0.457553</td>\n",
       "      <td>0.135037</td>\n",
       "      <td>-0.148037</td>\n",
       "      <td>0.117080</td>\n",
       "      <td>-0.334455</td>\n",
       "      <td>19</td>\n",
       "    </tr>\n",
       "    <tr>\n",
       "      <th>4</th>\n",
       "      <td>-1.306726</td>\n",
       "      <td>-0.463156</td>\n",
       "      <td>1.490139</td>\n",
       "      <td>-0.425936</td>\n",
       "      <td>-0.473108</td>\n",
       "      <td>0.673302</td>\n",
       "      <td>-0.148037</td>\n",
       "      <td>-0.522825</td>\n",
       "      <td>0.694112</td>\n",
       "      <td>17</td>\n",
       "    </tr>\n",
       "  </tbody>\n",
       "</table>\n",
       "</div>"
      ],
      "text/plain": [
       "          0         1         2         3         4         5         6  \\\n",
       "0 -1.306726 -1.089111  0.262416  0.389628  0.199076  1.228791 -0.148037   \n",
       "1 -1.306726  0.669524 -0.033682  0.568285 -0.715316  1.065159 -0.148037   \n",
       "2 -1.306726 -0.947526  1.165153  0.649794  0.776821 -1.079289 -0.148037   \n",
       "3 -1.306726 -0.999689  1.396254  0.514261 -0.457553  0.135037 -0.148037   \n",
       "4 -1.306726 -0.463156  1.490139 -0.425936 -0.473108  0.673302 -0.148037   \n",
       "\n",
       "          7         8  cluster_id  \n",
       "0  0.933510 -0.356574           1  \n",
       "1 -0.842147  0.760471          17  \n",
       "2 -0.182383  0.401026          19  \n",
       "3  0.117080 -0.334455          19  \n",
       "4 -0.522825  0.694112          17  "
      ]
     },
     "execution_count": 246,
     "metadata": {},
     "output_type": "execute_result"
    }
   ],
   "source": [
    "songs_clustered.head()"
   ]
  },
  {
   "cell_type": "code",
   "execution_count": 247,
   "metadata": {},
   "outputs": [],
   "source": [
    "songs_clustered.to_csv('songs_clustered2.csv', index = True)"
   ]
  },
  {
   "cell_type": "code",
   "execution_count": 221,
   "metadata": {},
   "outputs": [
    {
     "data": {
      "text/plain": [
       "0    75\n",
       "3    50\n",
       "4    46\n",
       "1    42\n",
       "5    20\n",
       "2     2\n",
       "Name: cluster_id, dtype: int64"
      ]
     },
     "execution_count": 221,
     "metadata": {},
     "output_type": "execute_result"
    }
   ],
   "source": [
    "songs_clustered['cluster_id'].value_counts()"
   ]
  },
  {
   "cell_type": "code",
   "execution_count": 153,
   "metadata": {},
   "outputs": [
    {
     "data": {
      "text/plain": [
       "array([[ 1.51388369e-01,  1.13062361e+00,  1.15399744e+00,\n",
       "         1.75934026e-02, -7.50956597e-01, -1.43420940e-01,\n",
       "        -4.22101173e-01,  4.42500148e-01],\n",
       "       [-2.03921556e-02, -1.68990356e+00, -1.79591187e+00,\n",
       "         1.17506635e-01,  9.11573939e-01,  9.00079845e-02,\n",
       "        -2.80575471e-01, -1.48283652e+00],\n",
       "       [-8.29532914e-03,  8.56056087e-01,  4.78283400e-01,\n",
       "        -3.29826884e-01, -1.99462405e-01, -1.10535059e-01,\n",
       "         1.10183915e+00, -1.99124478e-02],\n",
       "       [-2.76088900e-01, -3.53686476e-01, -1.36144384e-01,\n",
       "        -4.42496263e-01, -1.25743894e+00, -1.40422741e-01,\n",
       "        -6.32425181e-01, -1.03179778e+00],\n",
       "       [-3.34156180e-01, -2.46968411e-01, -1.21604139e-01,\n",
       "        -3.10721811e-01,  8.02198494e-01, -1.41140502e-01,\n",
       "        -5.26369593e-01,  3.11317963e-01],\n",
       "       [ 1.57119749e+00, -6.25877307e-01,  9.60191351e-01,\n",
       "         5.58499778e-01, -9.54411342e-01,  1.02978768e+01,\n",
       "        -9.60198303e-01, -7.73131026e-02],\n",
       "       [-9.62961688e-01,  2.81502545e-01, -6.00699893e-01,\n",
       "        -4.32236865e-01,  8.53338794e-01, -1.48030193e-01,\n",
       "         1.59705598e+00,  1.55733872e-01],\n",
       "       [ 1.12137710e+00, -1.06509999e+00,  1.97573522e-01,\n",
       "         2.37369836e+00,  6.57251889e-01, -1.20478751e-01,\n",
       "        -7.40644823e-01,  7.93650589e-01],\n",
       "       [ 1.11769957e+00, -3.71563340e-01, -5.49820124e-02,\n",
       "         2.37593488e+00, -1.07095340e+00,  1.91655513e-01,\n",
       "        -7.74351270e-01, -7.89488856e-01],\n",
       "       [ 1.21610093e+00, -4.16756271e-01,  1.73554992e-01,\n",
       "        -4.02145428e-01, -3.35771693e-01,  4.17363700e-02,\n",
       "        -6.44035536e-01,  6.94833177e-01]])"
      ]
     },
     "execution_count": 153,
     "metadata": {},
     "output_type": "execute_result"
    }
   ],
   "source": [
    "kmeans.cluster_centers_"
   ]
  },
  {
   "cell_type": "code",
   "execution_count": null,
   "metadata": {},
   "outputs": [],
   "source": []
  }
 ],
 "metadata": {
  "kernelspec": {
   "display_name": "Python 3",
   "language": "python",
   "name": "python3"
  },
  "language_info": {
   "codemirror_mode": {
    "name": "ipython",
    "version": 3
   },
   "file_extension": ".py",
   "mimetype": "text/x-python",
   "name": "python",
   "nbconvert_exporter": "python",
   "pygments_lexer": "ipython3",
   "version": "3.8.5"
  }
 },
 "nbformat": 4,
 "nbformat_minor": 5
}
